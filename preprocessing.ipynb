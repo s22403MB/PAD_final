{
 "cells": [
  {
   "metadata": {
    "ExecuteTime": {
     "end_time": "2025-01-31T15:46:37.557084Z",
     "start_time": "2025-01-31T15:46:37.553051Z"
    }
   },
   "cell_type": "code",
   "source": [
    "import joblib\n",
    "import pandas as pd\n",
    "from sklearn.preprocessing import MinMaxScaler, OneHotEncoder\n",
    "from sklearn.compose import ColumnTransformer\n",
    "from sklearn.ensemble import VotingClassifier\n",
    "from sklearn.svm import SVC\n",
    "from sklearn.tree import DecisionTreeClassifier\n",
    "from sklearn.naive_bayes import GaussianNB\n",
    "from sklearn.pipeline import Pipeline\n",
    "from import_data import import_df_local"
   ],
   "id": "3b684679ea433571",
   "outputs": [],
   "execution_count": 34
  },
  {
   "metadata": {
    "ExecuteTime": {
     "end_time": "2025-01-31T15:46:40.463751Z",
     "start_time": "2025-01-31T15:46:40.409678Z"
    }
   },
   "cell_type": "code",
   "source": [
    "df = import_df_local('data/01_analyze.csv')\n",
    "X = df.drop('y', axis=1)\n",
    "Y = df['y'] "
   ],
   "id": "45db10c84b21de19",
   "outputs": [],
   "execution_count": 35
  },
  {
   "metadata": {
    "ExecuteTime": {
     "end_time": "2025-01-31T11:55:56.849034Z",
     "start_time": "2025-01-31T11:55:56.846083Z"
    }
   },
   "cell_type": "code",
   "source": [
    "transform = [\n",
    "    ('minmax_scaler', MinMaxScaler(), ['age', 'education', 'month', 'day_of_week', 'duration', 'campaign', 'previous']),\n",
    "    ('onehot_encoder', OneHotEncoder(), ['job', 'marital', 'housing', 'loan', 'contact', 'poutcome'])\n",
    "]\n",
    "column_transformer = ColumnTransformer(transform)"
   ],
   "id": "8adbf210bf18a92e",
   "outputs": [],
   "execution_count": 28
  },
  {
   "metadata": {
    "ExecuteTime": {
     "end_time": "2025-01-31T11:55:57.328312Z",
     "start_time": "2025-01-31T11:55:56.850039Z"
    }
   },
   "cell_type": "code",
   "source": [
    "transformed_data = column_transformer.fit_transform(df)\n",
    "\n",
    "numeric_columns = ['age', 'education', 'month', 'day_of_week', 'duration', 'campaign', 'previous']\n",
    "encoded_columns = column_transformer.named_transformers_['onehot_encoder'].get_feature_names_out(\n",
    "    ['job', 'marital', 'housing', 'loan', 'contact', 'poutcome'])\n",
    "\n",
    "transformed_df = pd.DataFrame(transformed_data, columns=numeric_columns + list(encoded_columns))\n",
    "\n",
    "transformed_df.to_csv('data/02_processed.csv', index=False)\n",
    "Y.to_csv('data/02a_Y.csv', index=False)"
   ],
   "id": "7e304d0c10046f91",
   "outputs": [],
   "execution_count": 29
  },
  {
   "cell_type": "code",
   "id": "initial_id",
   "metadata": {
    "collapsed": true,
    "ExecuteTime": {
     "end_time": "2025-01-31T15:40:04.731415Z",
     "start_time": "2025-01-31T15:40:04.724425Z"
    }
   },
   "source": [
    "voting_clf = VotingClassifier(\n",
    "    estimators=[\n",
    "        ('svc', SVC(class_weight='balanced', kernel='poly', probability=True, random_state=42)),\n",
    "        ('dtc', DecisionTreeClassifier(max_depth=6, class_weight='balanced', random_state=42)),\n",
    "        ('gnb', GaussianNB(var_smoothing=1e-7))\n",
    "    ]\n",
    ")\n",
    "pipeline = Pipeline([\n",
    "    ('preprocessor', column_transformer),\n",
    "    ('classifier', voting_clf)\n",
    "])\n",
    "pipeline_part1 = Pipeline([\n",
    "    ('preprocessor', column_transformer),\n",
    "    ('classifier', SVC(probability=True, kernel='poly', class_weight='balanced', random_state=42))\n",
    "])\n",
    "pipeline_part2 = Pipeline([\n",
    "    ('preprocessor', column_transformer),\n",
    "    ('classifier', DecisionTreeClassifier(max_depth=6, class_weight='balanced', random_state=42))\n",
    "])\n",
    "pipeline_part3 = Pipeline([\n",
    "    ('preprocessor', column_transformer),\n",
    "    ('classifier', GaussianNB(var_smoothing=1e-7))\n",
    "])"
   ],
   "outputs": [],
   "execution_count": 32
  },
  {
   "metadata": {
    "ExecuteTime": {
     "end_time": "2025-01-31T12:02:19.813773Z",
     "start_time": "2025-01-31T11:55:57.334833Z"
    }
   },
   "cell_type": "code",
   "source": [
    "pip = pipeline.fit(X, Y)\n",
    "pip1 = pipeline_part1.fit(X, Y)\n",
    "pip2 = pipeline_part2.fit(X, Y)\n",
    "pip3 = pipeline_part3.fit(X, Y)\n",
    "\n",
    "\n",
    "joblib.dump(pip, 'models/main_model.pkl')\n",
    "joblib.dump(pip1, 'models/pip1_model.pkl')\n",
    "joblib.dump(pip2, 'models/pip2_model.pkl')\n",
    "joblib.dump(pip3, 'models/pip3_model.pkl')"
   ],
   "id": "4d8f25cb099367e5",
   "outputs": [
    {
     "data": {
      "text/plain": [
       "['models/pip3_model.pkl']"
      ]
     },
     "execution_count": 31,
     "metadata": {},
     "output_type": "execute_result"
    }
   ],
   "execution_count": 31
  }
 ],
 "metadata": {
  "kernelspec": {
   "display_name": "Python 3",
   "language": "python",
   "name": "python3"
  },
  "language_info": {
   "codemirror_mode": {
    "name": "ipython",
    "version": 2
   },
   "file_extension": ".py",
   "mimetype": "text/x-python",
   "name": "python",
   "nbconvert_exporter": "python",
   "pygments_lexer": "ipython2",
   "version": "2.7.6"
  }
 },
 "nbformat": 4,
 "nbformat_minor": 5
}
